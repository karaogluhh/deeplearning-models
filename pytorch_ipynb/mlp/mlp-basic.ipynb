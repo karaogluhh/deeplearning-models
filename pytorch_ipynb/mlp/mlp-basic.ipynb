{
  "cells": [
    {
      "cell_type": "markdown",
      "metadata": {
        "id": "view-in-github",
        "colab_type": "text"
      },
      "source": [
        "<a href=\"https://colab.research.google.com/github/karaogluhh/deeplearning-models/blob/master/pytorch_ipynb/mlp/mlp-basic.ipynb\" target=\"_parent\"><img src=\"https://colab.research.google.com/assets/colab-badge.svg\" alt=\"Open In Colab\"/></a>"
      ]
    },
    {
      "cell_type": "markdown",
      "metadata": {
        "id": "aRBDLjVJLLqf"
      },
      "source": [
        "Deep Learning Models -- A collection of various deep learning architectures, models, and tips for TensorFlow and PyTorch in Jupyter Notebooks.\n",
        "- Author: Sebastian Raschka\n",
        "- GitHub Repository: https://github.com/rasbt/deeplearning-models"
      ]
    },
    {
      "cell_type": "code",
      "execution_count": 2,
      "metadata": {
        "id": "qchpo1YyLLqg",
        "outputId": "e48338b1-612c-42ef-ae24-e8c15ed495d3",
        "colab": {
          "base_uri": "https://localhost:8080/"
        }
      },
      "outputs": [
        {
          "output_type": "stream",
          "name": "stdout",
          "text": [
            "Collecting watermark\n",
            "  Downloading watermark-2.5.0-py2.py3-none-any.whl.metadata (1.4 kB)\n",
            "Requirement already satisfied: ipython>=6.0 in /usr/local/lib/python3.11/dist-packages (from watermark) (7.34.0)\n",
            "Requirement already satisfied: importlib-metadata>=1.4 in /usr/local/lib/python3.11/dist-packages (from watermark) (8.6.1)\n",
            "Requirement already satisfied: setuptools in /usr/local/lib/python3.11/dist-packages (from watermark) (75.2.0)\n",
            "Requirement already satisfied: zipp>=3.20 in /usr/local/lib/python3.11/dist-packages (from importlib-metadata>=1.4->watermark) (3.21.0)\n",
            "Collecting jedi>=0.16 (from ipython>=6.0->watermark)\n",
            "  Downloading jedi-0.19.2-py2.py3-none-any.whl.metadata (22 kB)\n",
            "Requirement already satisfied: decorator in /usr/local/lib/python3.11/dist-packages (from ipython>=6.0->watermark) (4.4.2)\n",
            "Requirement already satisfied: pickleshare in /usr/local/lib/python3.11/dist-packages (from ipython>=6.0->watermark) (0.7.5)\n",
            "Requirement already satisfied: traitlets>=4.2 in /usr/local/lib/python3.11/dist-packages (from ipython>=6.0->watermark) (5.7.1)\n",
            "Requirement already satisfied: prompt-toolkit!=3.0.0,!=3.0.1,<3.1.0,>=2.0.0 in /usr/local/lib/python3.11/dist-packages (from ipython>=6.0->watermark) (3.0.51)\n",
            "Requirement already satisfied: pygments in /usr/local/lib/python3.11/dist-packages (from ipython>=6.0->watermark) (2.18.0)\n",
            "Requirement already satisfied: backcall in /usr/local/lib/python3.11/dist-packages (from ipython>=6.0->watermark) (0.2.0)\n",
            "Requirement already satisfied: matplotlib-inline in /usr/local/lib/python3.11/dist-packages (from ipython>=6.0->watermark) (0.1.7)\n",
            "Requirement already satisfied: pexpect>4.3 in /usr/local/lib/python3.11/dist-packages (from ipython>=6.0->watermark) (4.9.0)\n",
            "Requirement already satisfied: parso<0.9.0,>=0.8.4 in /usr/local/lib/python3.11/dist-packages (from jedi>=0.16->ipython>=6.0->watermark) (0.8.4)\n",
            "Requirement already satisfied: ptyprocess>=0.5 in /usr/local/lib/python3.11/dist-packages (from pexpect>4.3->ipython>=6.0->watermark) (0.7.0)\n",
            "Requirement already satisfied: wcwidth in /usr/local/lib/python3.11/dist-packages (from prompt-toolkit!=3.0.0,!=3.0.1,<3.1.0,>=2.0.0->ipython>=6.0->watermark) (0.2.13)\n",
            "Downloading watermark-2.5.0-py2.py3-none-any.whl (7.7 kB)\n",
            "Downloading jedi-0.19.2-py2.py3-none-any.whl (1.6 MB)\n",
            "\u001b[2K   \u001b[90m━━━━━━━━━━━━━━━━━━━━━━━━━━━━━━━━━━━━━━━━\u001b[0m \u001b[32m1.6/1.6 MB\u001b[0m \u001b[31m19.2 MB/s\u001b[0m eta \u001b[36m0:00:00\u001b[0m\n",
            "\u001b[?25hInstalling collected packages: jedi, watermark\n",
            "Successfully installed jedi-0.19.2 watermark-2.5.0\n",
            "Watermark package is imported!..\n"
          ]
        }
      ],
      "source": [
        "try:\n",
        "  %load_ext watermark\n",
        "  %watermark -a 'Sebastian Raschka' -v -p torch\n",
        "except:\n",
        "  !pip install watermark\n",
        "else:\n",
        "  %load_ext watermark\n",
        "  %watermark -a 'Sebastian Raschka' -v -p torch\n",
        "finally:\n",
        "  print('Watermark package is imported!..')"
      ]
    },
    {
      "cell_type": "markdown",
      "metadata": {
        "id": "xSA1wFEPLLqh"
      },
      "source": [
        "- Runs on CPU or GPU (if available)"
      ]
    },
    {
      "cell_type": "markdown",
      "metadata": {
        "id": "urDNkkDyLLqh"
      },
      "source": [
        "# Model Zoo -- Multilayer Perceptron"
      ]
    },
    {
      "cell_type": "markdown",
      "metadata": {
        "id": "MOCO5N79LLqh"
      },
      "source": [
        "## Imports"
      ]
    },
    {
      "cell_type": "code",
      "execution_count": 3,
      "metadata": {
        "id": "FfQU3zkXLLqh"
      },
      "outputs": [],
      "source": [
        "import time\n",
        "import numpy as np\n",
        "from torchvision import datasets\n",
        "from torchvision import transforms\n",
        "from torch.utils.data import DataLoader\n",
        "import torch.nn.functional as F\n",
        "import torch\n",
        "\n",
        "\n",
        "if torch.cuda.is_available():\n",
        "    torch.backends.cudnn.deterministic = True  # See torch.backends"
      ]
    },
    {
      "cell_type": "markdown",
      "metadata": {
        "id": "HcV3p0BILLqh"
      },
      "source": [
        "## Settings and Dataset"
      ]
    },
    {
      "cell_type": "code",
      "execution_count": 4,
      "metadata": {
        "id": "NewbkfZoLLqh",
        "outputId": "a2ccf0f6-6d98-45fe-d170-0f62d4788598",
        "colab": {
          "base_uri": "https://localhost:8080/"
        }
      },
      "outputs": [
        {
          "output_type": "stream",
          "name": "stderr",
          "text": [
            "100%|██████████| 9.91M/9.91M [00:01<00:00, 5.47MB/s]\n",
            "100%|██████████| 28.9k/28.9k [00:00<00:00, 160kB/s]\n",
            "100%|██████████| 1.65M/1.65M [00:01<00:00, 1.52MB/s]\n",
            "100%|██████████| 4.54k/4.54k [00:00<00:00, 8.72MB/s]"
          ]
        },
        {
          "output_type": "stream",
          "name": "stdout",
          "text": [
            "Image batch dimensions: torch.Size([64, 1, 28, 28])\n",
            "Image label dimensions: torch.Size([64])\n"
          ]
        },
        {
          "output_type": "stream",
          "name": "stderr",
          "text": [
            "\n"
          ]
        }
      ],
      "source": [
        "##########################\n",
        "### SETTINGS\n",
        "##########################\n",
        "\n",
        "# Device\n",
        "device = torch.device(\"cuda:3\" if torch.cuda.is_available() else \"cpu\")\n",
        "\n",
        "# Hyperparameters\n",
        "random_seed = 1\n",
        "learning_rate = 0.1\n",
        "num_epochs = 10\n",
        "batch_size = 64\n",
        "\n",
        "# Architecture\n",
        "num_features = 784\n",
        "num_hidden_1 = 128\n",
        "num_hidden_2 = 256\n",
        "num_classes = 10\n",
        "\n",
        "\n",
        "##########################\n",
        "### MNIST DATASET\n",
        "##########################\n",
        "\n",
        "# Note transforms.ToTensor() scales input images\n",
        "# to 0-1 range\n",
        "train_dataset = datasets.MNIST(root='data',\n",
        "                               train=True,\n",
        "                               transform=transforms.ToTensor(),\n",
        "                               download=True)\n",
        "\n",
        "test_dataset = datasets.MNIST(root='data',\n",
        "                              train=False,\n",
        "                              transform=transforms.ToTensor())\n",
        "\n",
        "\n",
        "train_loader = DataLoader(dataset=train_dataset,\n",
        "                          batch_size=batch_size,\n",
        "                          shuffle=True)\n",
        "\n",
        "test_loader = DataLoader(dataset=test_dataset,\n",
        "                         batch_size=batch_size,\n",
        "                         shuffle=False)\n",
        "\n",
        "# Checking the dataset\n",
        "for images, labels in train_loader:\n",
        "    print('Image batch dimensions:', images.shape)\n",
        "    print('Image label dimensions:', labels.shape)\n",
        "    break"
      ]
    },
    {
      "cell_type": "code",
      "execution_count": 5,
      "metadata": {
        "id": "H9q1P5XwLLqh"
      },
      "outputs": [],
      "source": [
        "##########################\n",
        "### MODEL\n",
        "##########################\n",
        "\n",
        "class MultilayerPerceptron(torch.nn.Module):\n",
        "\n",
        "    def __init__(self, num_features, num_classes):\n",
        "        super(MultilayerPerceptron, self).__init__()\n",
        "\n",
        "        ### 1st hidden layer\n",
        "        self.linear_1 = torch.nn.Linear(num_features, num_hidden_1)\n",
        "        # The following two lines are not necessary,\n",
        "        # but used here to demonstrate how to access the weights\n",
        "        # and use a different weight initialization.\n",
        "        # By default, PyTorch uses Xavier/Glorot initialization, which\n",
        "        # should usually be preferred.\n",
        "        self.linear_1.weight.detach().normal_(0.0, 0.1)\n",
        "        self.linear_1.bias.detach().zero_()\n",
        "\n",
        "        ### 2nd hidden layer\n",
        "        self.linear_2 = torch.nn.Linear(num_hidden_1, num_hidden_2)\n",
        "        self.linear_2.weight.detach().normal_(0.0, 0.1)\n",
        "        self.linear_2.bias.detach().zero_()\n",
        "\n",
        "        ### Output layer\n",
        "        self.linear_out = torch.nn.Linear(num_hidden_2, num_classes)\n",
        "        self.linear_out.weight.detach().normal_(0.0, 0.1)\n",
        "        self.linear_out.bias.detach().zero_()\n",
        "\n",
        "    def forward(self, x):\n",
        "        out = self.linear_1(x)\n",
        "        out = F.relu(out)\n",
        "        out = self.linear_2(out)\n",
        "        out = F.relu(out)\n",
        "        logits = self.linear_out(out)\n",
        "        probas = F.log_softmax(logits, dim=1)\n",
        "        return logits, probas\n",
        "\n",
        "\n",
        "torch.manual_seed(random_seed)\n",
        "model = MultilayerPerceptron(num_features=num_features,\n",
        "                             num_classes=num_classes)\n",
        "\n",
        "model = model.to(device)\n",
        "\n",
        "optimizer = torch.optim.SGD(model.parameters(), lr=learning_rate)"
      ]
    },
    {
      "cell_type": "code",
      "execution_count": 6,
      "metadata": {
        "id": "JbMh4T8tLLqi",
        "outputId": "83cb226d-2bdf-4d8a-8e26-c1142e4177c1",
        "colab": {
          "base_uri": "https://localhost:8080/"
        }
      },
      "outputs": [
        {
          "output_type": "stream",
          "name": "stdout",
          "text": [
            "Epoch: 001/010 | Batch 000/938 | Cost: 2.5706\n",
            "Epoch: 001/010 | Batch 050/938 | Cost: 0.6443\n",
            "Epoch: 001/010 | Batch 100/938 | Cost: 0.8060\n",
            "Epoch: 001/010 | Batch 150/938 | Cost: 0.4170\n",
            "Epoch: 001/010 | Batch 200/938 | Cost: 0.3087\n",
            "Epoch: 001/010 | Batch 250/938 | Cost: 0.5076\n",
            "Epoch: 001/010 | Batch 300/938 | Cost: 0.6134\n",
            "Epoch: 001/010 | Batch 350/938 | Cost: 0.2311\n",
            "Epoch: 001/010 | Batch 400/938 | Cost: 0.3087\n",
            "Epoch: 001/010 | Batch 450/938 | Cost: 0.2637\n",
            "Epoch: 001/010 | Batch 500/938 | Cost: 0.3684\n",
            "Epoch: 001/010 | Batch 550/938 | Cost: 0.1236\n",
            "Epoch: 001/010 | Batch 600/938 | Cost: 0.1094\n",
            "Epoch: 001/010 | Batch 650/938 | Cost: 0.4079\n",
            "Epoch: 001/010 | Batch 700/938 | Cost: 0.4525\n",
            "Epoch: 001/010 | Batch 750/938 | Cost: 0.2800\n",
            "Epoch: 001/010 | Batch 800/938 | Cost: 0.1232\n",
            "Epoch: 001/010 | Batch 850/938 | Cost: 0.2618\n",
            "Epoch: 001/010 | Batch 900/938 | Cost: 0.2601\n",
            "Epoch: 001/010 training accuracy: 94.22%\n",
            "Time elapsed: 0.27 min\n",
            "Epoch: 002/010 | Batch 000/938 | Cost: 0.0812\n",
            "Epoch: 002/010 | Batch 050/938 | Cost: 0.1158\n",
            "Epoch: 002/010 | Batch 100/938 | Cost: 0.1847\n",
            "Epoch: 002/010 | Batch 150/938 | Cost: 0.3465\n",
            "Epoch: 002/010 | Batch 200/938 | Cost: 0.0912\n",
            "Epoch: 002/010 | Batch 250/938 | Cost: 0.1641\n",
            "Epoch: 002/010 | Batch 300/938 | Cost: 0.0391\n",
            "Epoch: 002/010 | Batch 350/938 | Cost: 0.2231\n",
            "Epoch: 002/010 | Batch 400/938 | Cost: 0.0798\n",
            "Epoch: 002/010 | Batch 450/938 | Cost: 0.0827\n",
            "Epoch: 002/010 | Batch 500/938 | Cost: 0.1430\n",
            "Epoch: 002/010 | Batch 550/938 | Cost: 0.1436\n",
            "Epoch: 002/010 | Batch 600/938 | Cost: 0.1705\n",
            "Epoch: 002/010 | Batch 650/938 | Cost: 0.3111\n",
            "Epoch: 002/010 | Batch 700/938 | Cost: 0.2199\n",
            "Epoch: 002/010 | Batch 750/938 | Cost: 0.1028\n",
            "Epoch: 002/010 | Batch 800/938 | Cost: 0.1803\n",
            "Epoch: 002/010 | Batch 850/938 | Cost: 0.0431\n",
            "Epoch: 002/010 | Batch 900/938 | Cost: 0.2260\n",
            "Epoch: 002/010 training accuracy: 96.48%\n",
            "Time elapsed: 0.55 min\n",
            "Epoch: 003/010 | Batch 000/938 | Cost: 0.0911\n",
            "Epoch: 003/010 | Batch 050/938 | Cost: 0.2216\n",
            "Epoch: 003/010 | Batch 100/938 | Cost: 0.1300\n",
            "Epoch: 003/010 | Batch 150/938 | Cost: 0.1624\n",
            "Epoch: 003/010 | Batch 200/938 | Cost: 0.0288\n",
            "Epoch: 003/010 | Batch 250/938 | Cost: 0.1230\n",
            "Epoch: 003/010 | Batch 300/938 | Cost: 0.2051\n",
            "Epoch: 003/010 | Batch 350/938 | Cost: 0.2053\n",
            "Epoch: 003/010 | Batch 400/938 | Cost: 0.0668\n",
            "Epoch: 003/010 | Batch 450/938 | Cost: 0.0770\n",
            "Epoch: 003/010 | Batch 500/938 | Cost: 0.0875\n",
            "Epoch: 003/010 | Batch 550/938 | Cost: 0.1006\n",
            "Epoch: 003/010 | Batch 600/938 | Cost: 0.0962\n",
            "Epoch: 003/010 | Batch 650/938 | Cost: 0.0409\n",
            "Epoch: 003/010 | Batch 700/938 | Cost: 0.0295\n",
            "Epoch: 003/010 | Batch 750/938 | Cost: 0.0504\n",
            "Epoch: 003/010 | Batch 800/938 | Cost: 0.0809\n",
            "Epoch: 003/010 | Batch 850/938 | Cost: 0.1011\n",
            "Epoch: 003/010 | Batch 900/938 | Cost: 0.0670\n",
            "Epoch: 003/010 training accuracy: 96.91%\n",
            "Time elapsed: 0.84 min\n",
            "Epoch: 004/010 | Batch 000/938 | Cost: 0.0676\n",
            "Epoch: 004/010 | Batch 050/938 | Cost: 0.0572\n",
            "Epoch: 004/010 | Batch 100/938 | Cost: 0.0500\n",
            "Epoch: 004/010 | Batch 150/938 | Cost: 0.0692\n",
            "Epoch: 004/010 | Batch 200/938 | Cost: 0.1170\n",
            "Epoch: 004/010 | Batch 250/938 | Cost: 0.0791\n",
            "Epoch: 004/010 | Batch 300/938 | Cost: 0.0762\n",
            "Epoch: 004/010 | Batch 350/938 | Cost: 0.1220\n",
            "Epoch: 004/010 | Batch 400/938 | Cost: 0.1087\n",
            "Epoch: 004/010 | Batch 450/938 | Cost: 0.0513\n",
            "Epoch: 004/010 | Batch 500/938 | Cost: 0.0568\n",
            "Epoch: 004/010 | Batch 550/938 | Cost: 0.0428\n",
            "Epoch: 004/010 | Batch 600/938 | Cost: 0.0612\n",
            "Epoch: 004/010 | Batch 650/938 | Cost: 0.0796\n",
            "Epoch: 004/010 | Batch 700/938 | Cost: 0.0497\n",
            "Epoch: 004/010 | Batch 750/938 | Cost: 0.0620\n",
            "Epoch: 004/010 | Batch 800/938 | Cost: 0.1105\n",
            "Epoch: 004/010 | Batch 850/938 | Cost: 0.0495\n",
            "Epoch: 004/010 | Batch 900/938 | Cost: 0.0721\n",
            "Epoch: 004/010 training accuracy: 97.73%\n",
            "Time elapsed: 1.13 min\n",
            "Epoch: 005/010 | Batch 000/938 | Cost: 0.1484\n",
            "Epoch: 005/010 | Batch 050/938 | Cost: 0.0819\n",
            "Epoch: 005/010 | Batch 100/938 | Cost: 0.0621\n",
            "Epoch: 005/010 | Batch 150/938 | Cost: 0.0169\n",
            "Epoch: 005/010 | Batch 200/938 | Cost: 0.0681\n",
            "Epoch: 005/010 | Batch 250/938 | Cost: 0.0240\n",
            "Epoch: 005/010 | Batch 300/938 | Cost: 0.2125\n",
            "Epoch: 005/010 | Batch 350/938 | Cost: 0.0214\n",
            "Epoch: 005/010 | Batch 400/938 | Cost: 0.0751\n",
            "Epoch: 005/010 | Batch 450/938 | Cost: 0.0329\n",
            "Epoch: 005/010 | Batch 500/938 | Cost: 0.1776\n",
            "Epoch: 005/010 | Batch 550/938 | Cost: 0.0258\n",
            "Epoch: 005/010 | Batch 600/938 | Cost: 0.1041\n",
            "Epoch: 005/010 | Batch 650/938 | Cost: 0.0728\n",
            "Epoch: 005/010 | Batch 700/938 | Cost: 0.0807\n",
            "Epoch: 005/010 | Batch 750/938 | Cost: 0.2492\n",
            "Epoch: 005/010 | Batch 800/938 | Cost: 0.0297\n",
            "Epoch: 005/010 | Batch 850/938 | Cost: 0.0292\n",
            "Epoch: 005/010 | Batch 900/938 | Cost: 0.0694\n",
            "Epoch: 005/010 training accuracy: 98.09%\n",
            "Time elapsed: 1.40 min\n",
            "Epoch: 006/010 | Batch 000/938 | Cost: 0.0862\n",
            "Epoch: 006/010 | Batch 050/938 | Cost: 0.1475\n",
            "Epoch: 006/010 | Batch 100/938 | Cost: 0.0820\n",
            "Epoch: 006/010 | Batch 150/938 | Cost: 0.0187\n",
            "Epoch: 006/010 | Batch 200/938 | Cost: 0.0620\n",
            "Epoch: 006/010 | Batch 250/938 | Cost: 0.0375\n",
            "Epoch: 006/010 | Batch 300/938 | Cost: 0.0506\n",
            "Epoch: 006/010 | Batch 350/938 | Cost: 0.1216\n",
            "Epoch: 006/010 | Batch 400/938 | Cost: 0.0618\n",
            "Epoch: 006/010 | Batch 450/938 | Cost: 0.0392\n",
            "Epoch: 006/010 | Batch 500/938 | Cost: 0.0172\n",
            "Epoch: 006/010 | Batch 550/938 | Cost: 0.0640\n",
            "Epoch: 006/010 | Batch 600/938 | Cost: 0.0526\n",
            "Epoch: 006/010 | Batch 650/938 | Cost: 0.0445\n",
            "Epoch: 006/010 | Batch 700/938 | Cost: 0.1497\n",
            "Epoch: 006/010 | Batch 750/938 | Cost: 0.1160\n",
            "Epoch: 006/010 | Batch 800/938 | Cost: 0.0524\n",
            "Epoch: 006/010 | Batch 850/938 | Cost: 0.0263\n",
            "Epoch: 006/010 | Batch 900/938 | Cost: 0.0556\n",
            "Epoch: 006/010 training accuracy: 98.62%\n",
            "Time elapsed: 1.69 min\n",
            "Epoch: 007/010 | Batch 000/938 | Cost: 0.0362\n",
            "Epoch: 007/010 | Batch 050/938 | Cost: 0.0684\n",
            "Epoch: 007/010 | Batch 100/938 | Cost: 0.0423\n",
            "Epoch: 007/010 | Batch 150/938 | Cost: 0.0274\n",
            "Epoch: 007/010 | Batch 200/938 | Cost: 0.0749\n",
            "Epoch: 007/010 | Batch 250/938 | Cost: 0.0355\n",
            "Epoch: 007/010 | Batch 300/938 | Cost: 0.0641\n",
            "Epoch: 007/010 | Batch 350/938 | Cost: 0.0386\n",
            "Epoch: 007/010 | Batch 400/938 | Cost: 0.0175\n",
            "Epoch: 007/010 | Batch 450/938 | Cost: 0.0122\n",
            "Epoch: 007/010 | Batch 500/938 | Cost: 0.0931\n",
            "Epoch: 007/010 | Batch 550/938 | Cost: 0.0059\n",
            "Epoch: 007/010 | Batch 600/938 | Cost: 0.0234\n",
            "Epoch: 007/010 | Batch 650/938 | Cost: 0.0395\n",
            "Epoch: 007/010 | Batch 700/938 | Cost: 0.0348\n",
            "Epoch: 007/010 | Batch 750/938 | Cost: 0.0228\n",
            "Epoch: 007/010 | Batch 800/938 | Cost: 0.0066\n",
            "Epoch: 007/010 | Batch 850/938 | Cost: 0.0198\n",
            "Epoch: 007/010 | Batch 900/938 | Cost: 0.0070\n",
            "Epoch: 007/010 training accuracy: 98.65%\n",
            "Time elapsed: 1.96 min\n",
            "Epoch: 008/010 | Batch 000/938 | Cost: 0.0330\n",
            "Epoch: 008/010 | Batch 050/938 | Cost: 0.0138\n",
            "Epoch: 008/010 | Batch 100/938 | Cost: 0.0830\n",
            "Epoch: 008/010 | Batch 150/938 | Cost: 0.0162\n",
            "Epoch: 008/010 | Batch 200/938 | Cost: 0.0095\n",
            "Epoch: 008/010 | Batch 250/938 | Cost: 0.0208\n",
            "Epoch: 008/010 | Batch 300/938 | Cost: 0.0315\n",
            "Epoch: 008/010 | Batch 350/938 | Cost: 0.0111\n",
            "Epoch: 008/010 | Batch 400/938 | Cost: 0.0457\n",
            "Epoch: 008/010 | Batch 450/938 | Cost: 0.0120\n",
            "Epoch: 008/010 | Batch 500/938 | Cost: 0.1064\n",
            "Epoch: 008/010 | Batch 550/938 | Cost: 0.0830\n",
            "Epoch: 008/010 | Batch 600/938 | Cost: 0.0615\n",
            "Epoch: 008/010 | Batch 650/938 | Cost: 0.0142\n",
            "Epoch: 008/010 | Batch 700/938 | Cost: 0.0275\n",
            "Epoch: 008/010 | Batch 750/938 | Cost: 0.0193\n",
            "Epoch: 008/010 | Batch 800/938 | Cost: 0.0248\n",
            "Epoch: 008/010 | Batch 850/938 | Cost: 0.0400\n",
            "Epoch: 008/010 | Batch 900/938 | Cost: 0.0768\n",
            "Epoch: 008/010 training accuracy: 99.10%\n",
            "Time elapsed: 2.23 min\n",
            "Epoch: 009/010 | Batch 000/938 | Cost: 0.0172\n",
            "Epoch: 009/010 | Batch 050/938 | Cost: 0.0722\n",
            "Epoch: 009/010 | Batch 100/938 | Cost: 0.0130\n",
            "Epoch: 009/010 | Batch 150/938 | Cost: 0.0075\n",
            "Epoch: 009/010 | Batch 200/938 | Cost: 0.0167\n",
            "Epoch: 009/010 | Batch 250/938 | Cost: 0.0277\n",
            "Epoch: 009/010 | Batch 300/938 | Cost: 0.0258\n",
            "Epoch: 009/010 | Batch 350/938 | Cost: 0.0474\n",
            "Epoch: 009/010 | Batch 400/938 | Cost: 0.0119\n",
            "Epoch: 009/010 | Batch 450/938 | Cost: 0.0067\n",
            "Epoch: 009/010 | Batch 500/938 | Cost: 0.0170\n",
            "Epoch: 009/010 | Batch 550/938 | Cost: 0.0603\n",
            "Epoch: 009/010 | Batch 600/938 | Cost: 0.0352\n",
            "Epoch: 009/010 | Batch 650/938 | Cost: 0.0173\n",
            "Epoch: 009/010 | Batch 700/938 | Cost: 0.0136\n",
            "Epoch: 009/010 | Batch 750/938 | Cost: 0.0246\n",
            "Epoch: 009/010 | Batch 800/938 | Cost: 0.0139\n",
            "Epoch: 009/010 | Batch 850/938 | Cost: 0.0347\n",
            "Epoch: 009/010 | Batch 900/938 | Cost: 0.0074\n",
            "Epoch: 009/010 training accuracy: 98.39%\n",
            "Time elapsed: 2.51 min\n",
            "Epoch: 010/010 | Batch 000/938 | Cost: 0.0375\n",
            "Epoch: 010/010 | Batch 050/938 | Cost: 0.0165\n",
            "Epoch: 010/010 | Batch 100/938 | Cost: 0.0301\n",
            "Epoch: 010/010 | Batch 150/938 | Cost: 0.0168\n",
            "Epoch: 010/010 | Batch 200/938 | Cost: 0.0535\n",
            "Epoch: 010/010 | Batch 250/938 | Cost: 0.0242\n",
            "Epoch: 010/010 | Batch 300/938 | Cost: 0.0361\n",
            "Epoch: 010/010 | Batch 350/938 | Cost: 0.0075\n",
            "Epoch: 010/010 | Batch 400/938 | Cost: 0.0109\n",
            "Epoch: 010/010 | Batch 450/938 | Cost: 0.0364\n",
            "Epoch: 010/010 | Batch 500/938 | Cost: 0.0359\n",
            "Epoch: 010/010 | Batch 550/938 | Cost: 0.0367\n",
            "Epoch: 010/010 | Batch 600/938 | Cost: 0.0144\n",
            "Epoch: 010/010 | Batch 650/938 | Cost: 0.0046\n",
            "Epoch: 010/010 | Batch 700/938 | Cost: 0.0689\n",
            "Epoch: 010/010 | Batch 750/938 | Cost: 0.0156\n",
            "Epoch: 010/010 | Batch 800/938 | Cost: 0.0710\n",
            "Epoch: 010/010 | Batch 850/938 | Cost: 0.0313\n",
            "Epoch: 010/010 | Batch 900/938 | Cost: 0.0085\n",
            "Epoch: 010/010 training accuracy: 99.18%\n",
            "Time elapsed: 2.79 min\n",
            "Total Training Time: 2.79 min\n"
          ]
        }
      ],
      "source": [
        "def compute_accuracy(net, data_loader):\n",
        "    net.eval()\n",
        "    correct_pred, num_examples = 0, 0\n",
        "    with torch.no_grad():\n",
        "        for features, targets in data_loader:\n",
        "            features = features.view(-1, 28*28).to(device)\n",
        "            targets = targets.to(device)\n",
        "            logits, probas = net(features)\n",
        "            _, predicted_labels = torch.max(probas, 1)\n",
        "            num_examples += targets.size(0)\n",
        "            correct_pred += (predicted_labels == targets).sum()\n",
        "        return correct_pred.float()/num_examples * 100\n",
        "\n",
        "\n",
        "start_time = time.time()\n",
        "for epoch in range(num_epochs):\n",
        "    model.train()\n",
        "    for batch_idx, (features, targets) in enumerate(train_loader):\n",
        "\n",
        "        features = features.view(-1, 28*28).to(device)\n",
        "        targets = targets.to(device)\n",
        "\n",
        "        ### FORWARD AND BACK PROP\n",
        "        logits, probas = model(features)\n",
        "        cost = F.cross_entropy(logits, targets)\n",
        "        optimizer.zero_grad()\n",
        "\n",
        "        cost.backward()\n",
        "\n",
        "        ### UPDATE MODEL PARAMETERS\n",
        "        optimizer.step()\n",
        "\n",
        "        ### LOGGING\n",
        "        if not batch_idx % 50:\n",
        "            print ('Epoch: %03d/%03d | Batch %03d/%03d | Cost: %.4f'\n",
        "                   %(epoch+1, num_epochs, batch_idx,\n",
        "                     len(train_loader), cost))\n",
        "\n",
        "    with torch.set_grad_enabled(False):\n",
        "        print('Epoch: %03d/%03d training accuracy: %.2f%%' % (\n",
        "              epoch+1, num_epochs,\n",
        "              compute_accuracy(model, train_loader)))\n",
        "\n",
        "    print('Time elapsed: %.2f min' % ((time.time() - start_time)/60))\n",
        "\n",
        "print('Total Training Time: %.2f min' % ((time.time() - start_time)/60))"
      ]
    },
    {
      "cell_type": "code",
      "execution_count": null,
      "metadata": {
        "id": "M6MCULDcLLqi",
        "outputId": "932bc625-aae8-4ae7-b5c1-43a788f398d2"
      },
      "outputs": [
        {
          "name": "stdout",
          "output_type": "stream",
          "text": [
            "Test accuracy: 97.54%\n"
          ]
        }
      ],
      "source": [
        "print('Test accuracy: %.2f%%' % (compute_accuracy(model, test_loader)))"
      ]
    },
    {
      "cell_type": "code",
      "execution_count": null,
      "metadata": {
        "id": "qm4GW2psLLqi",
        "outputId": "1b18b4f1-3ffe-4526-e1a4-ba5e240bf660"
      },
      "outputs": [
        {
          "name": "stdout",
          "output_type": "stream",
          "text": [
            "numpy       1.15.4\n",
            "torch       1.0.0\n",
            "\n"
          ]
        }
      ],
      "source": [
        "%watermark -iv"
      ]
    }
  ],
  "metadata": {
    "kernelspec": {
      "display_name": "Python 3",
      "name": "python3"
    },
    "language_info": {
      "codemirror_mode": {
        "name": "ipython",
        "version": 3
      },
      "file_extension": ".py",
      "mimetype": "text/x-python",
      "name": "python",
      "nbconvert_exporter": "python",
      "pygments_lexer": "ipython3",
      "version": "3.7.1"
    },
    "toc": {
      "nav_menu": {},
      "number_sections": true,
      "sideBar": true,
      "skip_h1_title": false,
      "title_cell": "Table of Contents",
      "title_sidebar": "Contents",
      "toc_cell": false,
      "toc_position": {},
      "toc_section_display": true,
      "toc_window_display": false
    },
    "colab": {
      "provenance": [],
      "include_colab_link": true
    }
  },
  "nbformat": 4,
  "nbformat_minor": 0
}
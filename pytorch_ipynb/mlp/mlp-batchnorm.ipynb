{
  "cells": [
    {
      "cell_type": "markdown",
      "metadata": {
        "id": "view-in-github",
        "colab_type": "text"
      },
      "source": [
        "<a href=\"https://colab.research.google.com/github/karaogluhh/deeplearning-models/blob/master/pytorch_ipynb/mlp/mlp-batchnorm.ipynb\" target=\"_parent\"><img src=\"https://colab.research.google.com/assets/colab-badge.svg\" alt=\"Open In Colab\"/></a>"
      ]
    },
    {
      "cell_type": "markdown",
      "metadata": {
        "id": "AZCUuYWET9LA"
      },
      "source": [
        "Deep Learning Models -- A collection of various deep learning architectures, models, and tips for TensorFlow and PyTorch in Jupyter Notebooks.\n",
        "- Author: Sebastian Raschka\n",
        "- GitHub Repository: https://github.com/rasbt/deeplearning-models"
      ]
    },
    {
      "cell_type": "code",
      "execution_count": 1,
      "metadata": {
        "id": "9oEGTRWwT9LC",
        "outputId": "665ffcb6-b827-42bb-d89d-6cb711bcb86d",
        "colab": {
          "base_uri": "https://localhost:8080/"
        }
      },
      "outputs": [
        {
          "output_type": "stream",
          "name": "stdout",
          "text": [
            "Collecting watermark\n",
            "  Downloading watermark-2.5.0-py2.py3-none-any.whl.metadata (1.4 kB)\n",
            "Requirement already satisfied: ipython>=6.0 in /usr/local/lib/python3.11/dist-packages (from watermark) (7.34.0)\n",
            "Requirement already satisfied: importlib-metadata>=1.4 in /usr/local/lib/python3.11/dist-packages (from watermark) (8.6.1)\n",
            "Requirement already satisfied: setuptools in /usr/local/lib/python3.11/dist-packages (from watermark) (75.2.0)\n",
            "Requirement already satisfied: zipp>=3.20 in /usr/local/lib/python3.11/dist-packages (from importlib-metadata>=1.4->watermark) (3.21.0)\n",
            "Collecting jedi>=0.16 (from ipython>=6.0->watermark)\n",
            "  Downloading jedi-0.19.2-py2.py3-none-any.whl.metadata (22 kB)\n",
            "Requirement already satisfied: decorator in /usr/local/lib/python3.11/dist-packages (from ipython>=6.0->watermark) (4.4.2)\n",
            "Requirement already satisfied: pickleshare in /usr/local/lib/python3.11/dist-packages (from ipython>=6.0->watermark) (0.7.5)\n",
            "Requirement already satisfied: traitlets>=4.2 in /usr/local/lib/python3.11/dist-packages (from ipython>=6.0->watermark) (5.7.1)\n",
            "Requirement already satisfied: prompt-toolkit!=3.0.0,!=3.0.1,<3.1.0,>=2.0.0 in /usr/local/lib/python3.11/dist-packages (from ipython>=6.0->watermark) (3.0.51)\n",
            "Requirement already satisfied: pygments in /usr/local/lib/python3.11/dist-packages (from ipython>=6.0->watermark) (2.18.0)\n",
            "Requirement already satisfied: backcall in /usr/local/lib/python3.11/dist-packages (from ipython>=6.0->watermark) (0.2.0)\n",
            "Requirement already satisfied: matplotlib-inline in /usr/local/lib/python3.11/dist-packages (from ipython>=6.0->watermark) (0.1.7)\n",
            "Requirement already satisfied: pexpect>4.3 in /usr/local/lib/python3.11/dist-packages (from ipython>=6.0->watermark) (4.9.0)\n",
            "Requirement already satisfied: parso<0.9.0,>=0.8.4 in /usr/local/lib/python3.11/dist-packages (from jedi>=0.16->ipython>=6.0->watermark) (0.8.4)\n",
            "Requirement already satisfied: ptyprocess>=0.5 in /usr/local/lib/python3.11/dist-packages (from pexpect>4.3->ipython>=6.0->watermark) (0.7.0)\n",
            "Requirement already satisfied: wcwidth in /usr/local/lib/python3.11/dist-packages (from prompt-toolkit!=3.0.0,!=3.0.1,<3.1.0,>=2.0.0->ipython>=6.0->watermark) (0.2.13)\n",
            "Downloading watermark-2.5.0-py2.py3-none-any.whl (7.7 kB)\n",
            "Downloading jedi-0.19.2-py2.py3-none-any.whl (1.6 MB)\n",
            "\u001b[2K   \u001b[90m━━━━━━━━━━━━━━━━━━━━━━━━━━━━━━━━━━━━━━━━\u001b[0m \u001b[32m1.6/1.6 MB\u001b[0m \u001b[31m27.1 MB/s\u001b[0m eta \u001b[36m0:00:00\u001b[0m\n",
            "\u001b[?25hInstalling collected packages: jedi, watermark\n",
            "Successfully installed jedi-0.19.2 watermark-2.5.0\n",
            "Author: Sebastian Raschka\n",
            "\n",
            "Python implementation: CPython\n",
            "Python version       : 3.11.12\n",
            "IPython version      : 7.34.0\n",
            "\n",
            "torch: 2.6.0+cu124\n",
            "\n"
          ]
        }
      ],
      "source": [
        "try:\n",
        "  %load_ext watermark\n",
        "  %watermark -a 'Sebastian Raschka' -v -p torch\n",
        "except:\n",
        "  !pip install watermark\n",
        "else:\n",
        "  print('The watermark extension is already loaded')\n",
        "finally:\n",
        "  %load_ext watermark\n",
        "  %watermark -a 'Sebastian Raschka' -v -p torch"
      ]
    },
    {
      "cell_type": "markdown",
      "metadata": {
        "id": "KYZ7yLXRT9LD"
      },
      "source": [
        "- Runs on CPU or GPU (if available)"
      ]
    },
    {
      "cell_type": "markdown",
      "metadata": {
        "id": "Uhp7hjl5T9LE"
      },
      "source": [
        "# Model Zoo -- Multilayer Perceptron with BatchNorm"
      ]
    },
    {
      "cell_type": "markdown",
      "metadata": {
        "id": "L5HLxPLXT9LE"
      },
      "source": [
        "## Imports"
      ]
    },
    {
      "cell_type": "code",
      "execution_count": 2,
      "metadata": {
        "id": "6QwYL0PzT9LE"
      },
      "outputs": [],
      "source": [
        "import time\n",
        "import numpy as np\n",
        "from torchvision import datasets\n",
        "from torchvision import transforms\n",
        "from torch.utils.data import DataLoader\n",
        "import torch.nn.functional as F\n",
        "import torch\n",
        "\n",
        "\n",
        "if torch.cuda.is_available():\n",
        "    torch.backends.cudnn.deterministic = True"
      ]
    },
    {
      "cell_type": "markdown",
      "metadata": {
        "id": "hvDltppAT9LE"
      },
      "source": [
        "## Settings and Dataset"
      ]
    },
    {
      "cell_type": "code",
      "execution_count": 3,
      "metadata": {
        "id": "hIVhgUwPT9LF",
        "outputId": "b4a34b73-433f-4b6a-a19e-7a760d23e9e1",
        "colab": {
          "base_uri": "https://localhost:8080/"
        }
      },
      "outputs": [
        {
          "output_type": "stream",
          "name": "stderr",
          "text": [
            "100%|██████████| 9.91M/9.91M [00:00<00:00, 17.6MB/s]\n",
            "100%|██████████| 28.9k/28.9k [00:00<00:00, 622kB/s]\n",
            "100%|██████████| 1.65M/1.65M [00:00<00:00, 4.40MB/s]\n",
            "100%|██████████| 4.54k/4.54k [00:00<00:00, 4.84MB/s]"
          ]
        },
        {
          "output_type": "stream",
          "name": "stdout",
          "text": [
            "Image batch dimensions: torch.Size([64, 1, 28, 28])\n",
            "Image label dimensions: torch.Size([64])\n"
          ]
        },
        {
          "output_type": "stream",
          "name": "stderr",
          "text": [
            "\n"
          ]
        }
      ],
      "source": [
        "##########################\n",
        "### SETTINGS\n",
        "##########################\n",
        "# See torch.device() # HHK\n",
        "\n",
        "# Device\n",
        "device = torch.device(\"cuda:0\" if torch.cuda.is_available() else \"cpu\") # YAWoT\n",
        "\n",
        "# Hyperparameters\n",
        "random_seed = 1\n",
        "learning_rate = 0.1\n",
        "num_epochs = 10\n",
        "batch_size = 64\n",
        "\n",
        "# Architecture\n",
        "num_features = 784\n",
        "num_hidden_1 = 128\n",
        "num_hidden_2 = 256\n",
        "num_classes = 10\n",
        "\n",
        "\n",
        "##########################\n",
        "### MNIST DATASET\n",
        "##########################\n",
        "\n",
        "# Note transforms.ToTensor() scales input images\n",
        "# to 0-1 range\n",
        "train_dataset = datasets.MNIST(root='data',\n",
        "                               train=True,\n",
        "                               transform=transforms.ToTensor(),\n",
        "                               download=True)\n",
        "\n",
        "test_dataset = datasets.MNIST(root='data',\n",
        "                              train=False,\n",
        "                              transform=transforms.ToTensor())\n",
        "\n",
        "\n",
        "train_loader = DataLoader(dataset=train_dataset,\n",
        "                          batch_size=batch_size,\n",
        "                          shuffle=True)\n",
        "\n",
        "test_loader = DataLoader(dataset=test_dataset,\n",
        "                         batch_size=batch_size,\n",
        "                         shuffle=False)\n",
        "\n",
        "# Checking the dataset\n",
        "for images, labels in train_loader:\n",
        "    print('Image batch dimensions:', images.shape)\n",
        "    print('Image label dimensions:', labels.shape)\n",
        "    break"
      ]
    },
    {
      "cell_type": "code",
      "execution_count": 4,
      "metadata": {
        "id": "k2PrW0z9T9LF"
      },
      "outputs": [],
      "source": [
        "##########################\n",
        "### MODEL\n",
        "##########################\n",
        "\n",
        "class MultilayerPerceptron(torch.nn.Module):\n",
        "\n",
        "    def __init__(self, num_features, num_classes):\n",
        "        super(MultilayerPerceptron, self).__init__()\n",
        "\n",
        "        ### 1st hidden layer\n",
        "        self.linear_1 = torch.nn.Linear(num_features, num_hidden_1)\n",
        "        # The following to lones are not necessary,\n",
        "        # but used here to demonstrate how to access the weights\n",
        "        # and use a different weight initialization.\n",
        "        # By default, PyTorch uses Xavier/Glorot initialization, which\n",
        "        # should usually be preferred.\n",
        "        self.linear_1.weight.detach().normal_(0.0, 0.1)\n",
        "        self.linear_1.bias.detach().zero_()\n",
        "        self.linear_1_bn = torch.nn.BatchNorm1d(num_hidden_1)\n",
        "\n",
        "        ### 2nd hidden layer\n",
        "        self.linear_2 = torch.nn.Linear(num_hidden_1, num_hidden_2)\n",
        "        self.linear_2.weight.detach().normal_(0.0, 0.1)\n",
        "        self.linear_2.bias.detach().zero_()\n",
        "        self.linear_2_bn = torch.nn.BatchNorm1d(num_hidden_2)\n",
        "\n",
        "        ### Output layer\n",
        "        self.linear_out = torch.nn.Linear(num_hidden_2, num_classes)\n",
        "        self.linear_out.weight.detach().normal_(0.0, 0.1)\n",
        "        self.linear_out.bias.detach().zero_()\n",
        "\n",
        "    def forward(self, x):\n",
        "        out = self.linear_1(x)\n",
        "        # note that batchnorm is in the classic\n",
        "        # sense placed before the activation\n",
        "        out = self.linear_1_bn(out)\n",
        "        out = F.relu(out)\n",
        "\n",
        "        out = self.linear_2(out)\n",
        "        out = self.linear_2_bn(out)\n",
        "        out = F.relu(out)\n",
        "\n",
        "        logits = self.linear_out(out)\n",
        "        probas = F.softmax(logits, dim=1)\n",
        "        return logits, probas\n",
        "\n",
        "\n",
        "torch.manual_seed(random_seed)\n",
        "model = MultilayerPerceptron(num_features=num_features,\n",
        "                             num_classes=num_classes)\n",
        "\n",
        "model = model.to(device)\n",
        "\n",
        "optimizer = torch.optim.SGD(model.parameters(), lr=learning_rate)"
      ]
    },
    {
      "cell_type": "code",
      "execution_count": 5,
      "metadata": {
        "id": "2Mcf2xkLT9LF",
        "outputId": "ef21ab65-17cd-451d-b26f-4201de4dddaa",
        "colab": {
          "base_uri": "https://localhost:8080/"
        }
      },
      "outputs": [
        {
          "output_type": "stream",
          "name": "stdout",
          "text": [
            "Epoch: 001/010 | Batch 000/938 | Cost: 2.7294\n",
            "Epoch: 001/010 | Batch 050/938 | Cost: 0.5899\n",
            "Epoch: 001/010 | Batch 100/938 | Cost: 0.5684\n",
            "Epoch: 001/010 | Batch 150/938 | Cost: 0.4042\n",
            "Epoch: 001/010 | Batch 200/938 | Cost: 0.2943\n",
            "Epoch: 001/010 | Batch 250/938 | Cost: 0.4567\n",
            "Epoch: 001/010 | Batch 300/938 | Cost: 0.6906\n",
            "Epoch: 001/010 | Batch 350/938 | Cost: 0.2202\n",
            "Epoch: 001/010 | Batch 400/938 | Cost: 0.3932\n",
            "Epoch: 001/010 | Batch 450/938 | Cost: 0.2548\n",
            "Epoch: 001/010 | Batch 500/938 | Cost: 0.3109\n",
            "Epoch: 001/010 | Batch 550/938 | Cost: 0.1360\n",
            "Epoch: 001/010 | Batch 600/938 | Cost: 0.0693\n",
            "Epoch: 001/010 | Batch 650/938 | Cost: 0.2401\n",
            "Epoch: 001/010 | Batch 700/938 | Cost: 0.4223\n",
            "Epoch: 001/010 | Batch 750/938 | Cost: 0.2712\n",
            "Epoch: 001/010 | Batch 800/938 | Cost: 0.1101\n",
            "Epoch: 001/010 | Batch 850/938 | Cost: 0.2318\n",
            "Epoch: 001/010 | Batch 900/938 | Cost: 0.2169\n",
            "Epoch: 001/010 training accuracy: 96.41%\n",
            "Time elapsed: 0.33 min\n",
            "Epoch: 002/010 | Batch 000/938 | Cost: 0.0476\n",
            "Epoch: 002/010 | Batch 050/938 | Cost: 0.1319\n",
            "Epoch: 002/010 | Batch 100/938 | Cost: 0.0911\n",
            "Epoch: 002/010 | Batch 150/938 | Cost: 0.2864\n",
            "Epoch: 002/010 | Batch 200/938 | Cost: 0.0925\n",
            "Epoch: 002/010 | Batch 250/938 | Cost: 0.1763\n",
            "Epoch: 002/010 | Batch 300/938 | Cost: 0.0836\n",
            "Epoch: 002/010 | Batch 350/938 | Cost: 0.1322\n",
            "Epoch: 002/010 | Batch 400/938 | Cost: 0.0793\n",
            "Epoch: 002/010 | Batch 450/938 | Cost: 0.0919\n",
            "Epoch: 002/010 | Batch 500/938 | Cost: 0.1281\n",
            "Epoch: 002/010 | Batch 550/938 | Cost: 0.2258\n",
            "Epoch: 002/010 | Batch 600/938 | Cost: 0.1596\n",
            "Epoch: 002/010 | Batch 650/938 | Cost: 0.3247\n",
            "Epoch: 002/010 | Batch 700/938 | Cost: 0.1950\n",
            "Epoch: 002/010 | Batch 750/938 | Cost: 0.1048\n",
            "Epoch: 002/010 | Batch 800/938 | Cost: 0.1821\n",
            "Epoch: 002/010 | Batch 850/938 | Cost: 0.0685\n",
            "Epoch: 002/010 | Batch 900/938 | Cost: 0.2099\n",
            "Epoch: 002/010 training accuracy: 97.78%\n",
            "Time elapsed: 0.68 min\n",
            "Epoch: 003/010 | Batch 000/938 | Cost: 0.1075\n",
            "Epoch: 003/010 | Batch 050/938 | Cost: 0.1357\n",
            "Epoch: 003/010 | Batch 100/938 | Cost: 0.1225\n",
            "Epoch: 003/010 | Batch 150/938 | Cost: 0.1872\n",
            "Epoch: 003/010 | Batch 200/938 | Cost: 0.0340\n",
            "Epoch: 003/010 | Batch 250/938 | Cost: 0.0930\n",
            "Epoch: 003/010 | Batch 300/938 | Cost: 0.1153\n",
            "Epoch: 003/010 | Batch 350/938 | Cost: 0.1604\n",
            "Epoch: 003/010 | Batch 400/938 | Cost: 0.0745\n",
            "Epoch: 003/010 | Batch 450/938 | Cost: 0.0759\n",
            "Epoch: 003/010 | Batch 500/938 | Cost: 0.0717\n",
            "Epoch: 003/010 | Batch 550/938 | Cost: 0.0576\n",
            "Epoch: 003/010 | Batch 600/938 | Cost: 0.1128\n",
            "Epoch: 003/010 | Batch 650/938 | Cost: 0.0673\n",
            "Epoch: 003/010 | Batch 700/938 | Cost: 0.0280\n",
            "Epoch: 003/010 | Batch 750/938 | Cost: 0.0399\n",
            "Epoch: 003/010 | Batch 800/938 | Cost: 0.0633\n",
            "Epoch: 003/010 | Batch 850/938 | Cost: 0.0977\n",
            "Epoch: 003/010 | Batch 900/938 | Cost: 0.0461\n",
            "Epoch: 003/010 training accuracy: 98.40%\n",
            "Time elapsed: 1.03 min\n",
            "Epoch: 004/010 | Batch 000/938 | Cost: 0.0591\n",
            "Epoch: 004/010 | Batch 050/938 | Cost: 0.0812\n",
            "Epoch: 004/010 | Batch 100/938 | Cost: 0.0499\n",
            "Epoch: 004/010 | Batch 150/938 | Cost: 0.0145\n",
            "Epoch: 004/010 | Batch 200/938 | Cost: 0.1236\n",
            "Epoch: 004/010 | Batch 250/938 | Cost: 0.0334\n",
            "Epoch: 004/010 | Batch 300/938 | Cost: 0.0441\n",
            "Epoch: 004/010 | Batch 350/938 | Cost: 0.0600\n",
            "Epoch: 004/010 | Batch 400/938 | Cost: 0.0526\n",
            "Epoch: 004/010 | Batch 450/938 | Cost: 0.0546\n",
            "Epoch: 004/010 | Batch 500/938 | Cost: 0.0383\n",
            "Epoch: 004/010 | Batch 550/938 | Cost: 0.0608\n",
            "Epoch: 004/010 | Batch 600/938 | Cost: 0.0507\n",
            "Epoch: 004/010 | Batch 650/938 | Cost: 0.0452\n",
            "Epoch: 004/010 | Batch 700/938 | Cost: 0.0627\n",
            "Epoch: 004/010 | Batch 750/938 | Cost: 0.1297\n",
            "Epoch: 004/010 | Batch 800/938 | Cost: 0.1282\n",
            "Epoch: 004/010 | Batch 850/938 | Cost: 0.0814\n",
            "Epoch: 004/010 | Batch 900/938 | Cost: 0.0716\n",
            "Epoch: 004/010 training accuracy: 98.72%\n",
            "Time elapsed: 1.36 min\n",
            "Epoch: 005/010 | Batch 000/938 | Cost: 0.0763\n",
            "Epoch: 005/010 | Batch 050/938 | Cost: 0.1271\n",
            "Epoch: 005/010 | Batch 100/938 | Cost: 0.0496\n",
            "Epoch: 005/010 | Batch 150/938 | Cost: 0.0285\n",
            "Epoch: 005/010 | Batch 200/938 | Cost: 0.0649\n",
            "Epoch: 005/010 | Batch 250/938 | Cost: 0.0187\n",
            "Epoch: 005/010 | Batch 300/938 | Cost: 0.1704\n",
            "Epoch: 005/010 | Batch 350/938 | Cost: 0.0148\n",
            "Epoch: 005/010 | Batch 400/938 | Cost: 0.0374\n",
            "Epoch: 005/010 | Batch 450/938 | Cost: 0.0928\n",
            "Epoch: 005/010 | Batch 500/938 | Cost: 0.0929\n",
            "Epoch: 005/010 | Batch 550/938 | Cost: 0.0221\n",
            "Epoch: 005/010 | Batch 600/938 | Cost: 0.0869\n",
            "Epoch: 005/010 | Batch 650/938 | Cost: 0.0567\n",
            "Epoch: 005/010 | Batch 700/938 | Cost: 0.0676\n",
            "Epoch: 005/010 | Batch 750/938 | Cost: 0.1939\n",
            "Epoch: 005/010 | Batch 800/938 | Cost: 0.0461\n",
            "Epoch: 005/010 | Batch 850/938 | Cost: 0.0155\n",
            "Epoch: 005/010 | Batch 900/938 | Cost: 0.0700\n",
            "Epoch: 005/010 training accuracy: 99.11%\n",
            "Time elapsed: 1.71 min\n",
            "Epoch: 006/010 | Batch 000/938 | Cost: 0.0535\n",
            "Epoch: 006/010 | Batch 050/938 | Cost: 0.0844\n",
            "Epoch: 006/010 | Batch 100/938 | Cost: 0.0842\n",
            "Epoch: 006/010 | Batch 150/938 | Cost: 0.0228\n",
            "Epoch: 006/010 | Batch 200/938 | Cost: 0.0331\n",
            "Epoch: 006/010 | Batch 250/938 | Cost: 0.0385\n",
            "Epoch: 006/010 | Batch 300/938 | Cost: 0.0302\n",
            "Epoch: 006/010 | Batch 350/938 | Cost: 0.0351\n",
            "Epoch: 006/010 | Batch 400/938 | Cost: 0.0905\n",
            "Epoch: 006/010 | Batch 450/938 | Cost: 0.0235\n",
            "Epoch: 006/010 | Batch 500/938 | Cost: 0.0347\n",
            "Epoch: 006/010 | Batch 550/938 | Cost: 0.0910\n",
            "Epoch: 006/010 | Batch 600/938 | Cost: 0.0669\n",
            "Epoch: 006/010 | Batch 650/938 | Cost: 0.0172\n",
            "Epoch: 006/010 | Batch 700/938 | Cost: 0.1778\n",
            "Epoch: 006/010 | Batch 750/938 | Cost: 0.1293\n",
            "Epoch: 006/010 | Batch 800/938 | Cost: 0.0320\n",
            "Epoch: 006/010 | Batch 850/938 | Cost: 0.0252\n",
            "Epoch: 006/010 | Batch 900/938 | Cost: 0.0519\n",
            "Epoch: 006/010 training accuracy: 99.34%\n",
            "Time elapsed: 2.04 min\n",
            "Epoch: 007/010 | Batch 000/938 | Cost: 0.0260\n",
            "Epoch: 007/010 | Batch 050/938 | Cost: 0.0552\n",
            "Epoch: 007/010 | Batch 100/938 | Cost: 0.0264\n",
            "Epoch: 007/010 | Batch 150/938 | Cost: 0.0312\n",
            "Epoch: 007/010 | Batch 200/938 | Cost: 0.0589\n",
            "Epoch: 007/010 | Batch 250/938 | Cost: 0.0277\n",
            "Epoch: 007/010 | Batch 300/938 | Cost: 0.0266\n",
            "Epoch: 007/010 | Batch 350/938 | Cost: 0.0400\n",
            "Epoch: 007/010 | Batch 400/938 | Cost: 0.0200\n",
            "Epoch: 007/010 | Batch 450/938 | Cost: 0.0320\n",
            "Epoch: 007/010 | Batch 500/938 | Cost: 0.1003\n",
            "Epoch: 007/010 | Batch 550/938 | Cost: 0.0098\n",
            "Epoch: 007/010 | Batch 600/938 | Cost: 0.0131\n",
            "Epoch: 007/010 | Batch 650/938 | Cost: 0.0324\n",
            "Epoch: 007/010 | Batch 700/938 | Cost: 0.0438\n",
            "Epoch: 007/010 | Batch 750/938 | Cost: 0.0144\n",
            "Epoch: 007/010 | Batch 800/938 | Cost: 0.0061\n",
            "Epoch: 007/010 | Batch 850/938 | Cost: 0.0409\n",
            "Epoch: 007/010 | Batch 900/938 | Cost: 0.0168\n",
            "Epoch: 007/010 training accuracy: 99.61%\n",
            "Time elapsed: 2.43 min\n",
            "Epoch: 008/010 | Batch 000/938 | Cost: 0.0099\n",
            "Epoch: 008/010 | Batch 050/938 | Cost: 0.0537\n",
            "Epoch: 008/010 | Batch 100/938 | Cost: 0.0469\n",
            "Epoch: 008/010 | Batch 150/938 | Cost: 0.0221\n",
            "Epoch: 008/010 | Batch 200/938 | Cost: 0.0072\n",
            "Epoch: 008/010 | Batch 250/938 | Cost: 0.0278\n",
            "Epoch: 008/010 | Batch 300/938 | Cost: 0.0228\n",
            "Epoch: 008/010 | Batch 350/938 | Cost: 0.0121\n",
            "Epoch: 008/010 | Batch 400/938 | Cost: 0.0444\n",
            "Epoch: 008/010 | Batch 450/938 | Cost: 0.0199\n",
            "Epoch: 008/010 | Batch 500/938 | Cost: 0.1560\n",
            "Epoch: 008/010 | Batch 550/938 | Cost: 0.0349\n",
            "Epoch: 008/010 | Batch 600/938 | Cost: 0.0367\n",
            "Epoch: 008/010 | Batch 650/938 | Cost: 0.0091\n",
            "Epoch: 008/010 | Batch 700/938 | Cost: 0.0442\n",
            "Epoch: 008/010 | Batch 750/938 | Cost: 0.0386\n",
            "Epoch: 008/010 | Batch 800/938 | Cost: 0.0167\n",
            "Epoch: 008/010 | Batch 850/938 | Cost: 0.0150\n",
            "Epoch: 008/010 | Batch 900/938 | Cost: 0.0599\n",
            "Epoch: 008/010 training accuracy: 99.63%\n",
            "Time elapsed: 2.77 min\n",
            "Epoch: 009/010 | Batch 000/938 | Cost: 0.0177\n",
            "Epoch: 009/010 | Batch 050/938 | Cost: 0.0462\n",
            "Epoch: 009/010 | Batch 100/938 | Cost: 0.0200\n",
            "Epoch: 009/010 | Batch 150/938 | Cost: 0.0204\n",
            "Epoch: 009/010 | Batch 200/938 | Cost: 0.0368\n",
            "Epoch: 009/010 | Batch 250/938 | Cost: 0.0464\n",
            "Epoch: 009/010 | Batch 300/938 | Cost: 0.0200\n",
            "Epoch: 009/010 | Batch 350/938 | Cost: 0.0622\n",
            "Epoch: 009/010 | Batch 400/938 | Cost: 0.0082\n",
            "Epoch: 009/010 | Batch 450/938 | Cost: 0.0043\n",
            "Epoch: 009/010 | Batch 500/938 | Cost: 0.0150\n",
            "Epoch: 009/010 | Batch 550/938 | Cost: 0.0454\n",
            "Epoch: 009/010 | Batch 600/938 | Cost: 0.0220\n",
            "Epoch: 009/010 | Batch 650/938 | Cost: 0.0336\n",
            "Epoch: 009/010 | Batch 700/938 | Cost: 0.0040\n",
            "Epoch: 009/010 | Batch 750/938 | Cost: 0.0090\n",
            "Epoch: 009/010 | Batch 800/938 | Cost: 0.0225\n",
            "Epoch: 009/010 | Batch 850/938 | Cost: 0.0752\n",
            "Epoch: 009/010 | Batch 900/938 | Cost: 0.0095\n",
            "Epoch: 009/010 training accuracy: 99.76%\n",
            "Time elapsed: 3.10 min\n",
            "Epoch: 010/010 | Batch 000/938 | Cost: 0.0067\n",
            "Epoch: 010/010 | Batch 050/938 | Cost: 0.0249\n",
            "Epoch: 010/010 | Batch 100/938 | Cost: 0.0126\n",
            "Epoch: 010/010 | Batch 150/938 | Cost: 0.0321\n",
            "Epoch: 010/010 | Batch 200/938 | Cost: 0.0070\n",
            "Epoch: 010/010 | Batch 250/938 | Cost: 0.0121\n",
            "Epoch: 010/010 | Batch 300/938 | Cost: 0.0292\n",
            "Epoch: 010/010 | Batch 350/938 | Cost: 0.0270\n",
            "Epoch: 010/010 | Batch 400/938 | Cost: 0.0103\n",
            "Epoch: 010/010 | Batch 450/938 | Cost: 0.0137\n",
            "Epoch: 010/010 | Batch 500/938 | Cost: 0.0264\n",
            "Epoch: 010/010 | Batch 550/938 | Cost: 0.0093\n",
            "Epoch: 010/010 | Batch 600/938 | Cost: 0.0139\n",
            "Epoch: 010/010 | Batch 650/938 | Cost: 0.0087\n",
            "Epoch: 010/010 | Batch 700/938 | Cost: 0.0171\n",
            "Epoch: 010/010 | Batch 750/938 | Cost: 0.0227\n",
            "Epoch: 010/010 | Batch 800/938 | Cost: 0.0738\n",
            "Epoch: 010/010 | Batch 850/938 | Cost: 0.0210\n",
            "Epoch: 010/010 | Batch 900/938 | Cost: 0.0064\n",
            "Epoch: 010/010 training accuracy: 99.79%\n",
            "Time elapsed: 3.44 min\n",
            "Total Training Time: 3.44 min\n"
          ]
        }
      ],
      "source": [
        "def compute_accuracy(net, data_loader):\n",
        "    net.eval()\n",
        "    correct_pred, num_examples = 0, 0\n",
        "    with torch.no_grad():\n",
        "        for features, targets in data_loader:\n",
        "            features = features.view(-1, 28*28).to(device)\n",
        "            targets = targets.to(device)\n",
        "            logits, probas = net(features)\n",
        "            _, predicted_labels = torch.max(probas, 1)\n",
        "            num_examples += targets.size(0)\n",
        "            correct_pred += (predicted_labels == targets).sum()\n",
        "        return correct_pred.float()/num_examples * 100\n",
        "\n",
        "\n",
        "start_time = time.time()\n",
        "for epoch in range(num_epochs):\n",
        "    model.train()\n",
        "    for batch_idx, (features, targets) in enumerate(train_loader):\n",
        "\n",
        "        features = features.view(-1, 28*28).to(device)\n",
        "        targets = targets.to(device)\n",
        "\n",
        "        ### FORWARD AND BACK PROP\n",
        "        logits, probas = model(features)\n",
        "        cost = F.cross_entropy(logits, targets)\n",
        "        optimizer.zero_grad()\n",
        "\n",
        "        cost.backward()\n",
        "\n",
        "        ### UPDATE MODEL PARAMETERS\n",
        "        optimizer.step()\n",
        "\n",
        "        ### LOGGING\n",
        "        if not batch_idx % 50:\n",
        "            print ('Epoch: %03d/%03d | Batch %03d/%03d | Cost: %.4f'\n",
        "                   %(epoch+1, num_epochs, batch_idx,\n",
        "                     len(train_loader), cost))\n",
        "\n",
        "    print('Epoch: %03d/%03d training accuracy: %.2f%%' % (\n",
        "          epoch+1, num_epochs,\n",
        "          compute_accuracy(model, train_loader)))\n",
        "\n",
        "    print('Time elapsed: %.2f min' % ((time.time() - start_time)/60))\n",
        "\n",
        "print('Total Training Time: %.2f min' % ((time.time() - start_time)/60))"
      ]
    },
    {
      "cell_type": "code",
      "execution_count": 6,
      "metadata": {
        "id": "AmvxNvcZT9LF",
        "outputId": "758dc1b1-654c-46aa-f4a7-548877437624",
        "colab": {
          "base_uri": "https://localhost:8080/"
        }
      },
      "outputs": [
        {
          "output_type": "stream",
          "name": "stdout",
          "text": [
            "Test accuracy: 97.87%\n"
          ]
        }
      ],
      "source": [
        "print('Test accuracy: %.2f%%' % (compute_accuracy(model, test_loader)))"
      ]
    },
    {
      "cell_type": "code",
      "execution_count": 7,
      "metadata": {
        "id": "2t-0T8sDT9LF",
        "outputId": "ca8e594f-9523-4dde-d9eb-ef6d4c9a5acf",
        "colab": {
          "base_uri": "https://localhost:8080/"
        }
      },
      "outputs": [
        {
          "output_type": "stream",
          "name": "stdout",
          "text": [
            "torch      : 2.6.0+cu124\n",
            "torchvision: 0.21.0+cu124\n",
            "numpy      : 2.0.2\n",
            "\n"
          ]
        }
      ],
      "source": [
        "%watermark -iv"
      ]
    },
    {
      "cell_type": "code",
      "source": [],
      "metadata": {
        "id": "M35JuJ4sWmaN"
      },
      "execution_count": null,
      "outputs": []
    }
  ],
  "metadata": {
    "kernelspec": {
      "display_name": "Python 3",
      "language": "python",
      "name": "python3"
    },
    "language_info": {
      "codemirror_mode": {
        "name": "ipython",
        "version": 3
      },
      "file_extension": ".py",
      "mimetype": "text/x-python",
      "name": "python",
      "nbconvert_exporter": "python",
      "pygments_lexer": "ipython3",
      "version": "3.7.1"
    },
    "toc": {
      "nav_menu": {},
      "number_sections": true,
      "sideBar": true,
      "skip_h1_title": false,
      "title_cell": "Table of Contents",
      "title_sidebar": "Contents",
      "toc_cell": false,
      "toc_position": {},
      "toc_section_display": true,
      "toc_window_display": false
    },
    "colab": {
      "provenance": [],
      "include_colab_link": true
    }
  },
  "nbformat": 4,
  "nbformat_minor": 0
}
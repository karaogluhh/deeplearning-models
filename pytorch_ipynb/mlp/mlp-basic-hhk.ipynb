{
  "nbformat": 4,
  "nbformat_minor": 0,
  "metadata": {
    "colab": {
      "provenance": [],
      "authorship_tag": "ABX9TyPRBAWEt0ylK2n+1vkvZ/q3",
      "include_colab_link": true
    },
    "kernelspec": {
      "name": "python3",
      "display_name": "Python 3"
    },
    "language_info": {
      "name": "python"
    }
  },
  "cells": [
    {
      "cell_type": "markdown",
      "metadata": {
        "id": "view-in-github",
        "colab_type": "text"
      },
      "source": [
        "<a href=\"https://colab.research.google.com/github/karaogluhh/deeplearning-models/blob/master/pytorch_ipynb/mlp/mlp-basic-hhk.ipynb\" target=\"_parent\"><img src=\"https://colab.research.google.com/assets/colab-badge.svg\" alt=\"Open In Colab\"/></a>"
      ]
    },
    {
      "cell_type": "markdown",
      "source": [
        "## Steps\n",
        "1. Import relevant packages\n",
        "2. Download and prepare dataset of interest\n",
        "3. Prepare dataloaders\n",
        "4. Build a model and instantiate it\n",
        "5. Set learning parameters such as learning rate, number of epochs, batch size and so on\n",
        "6. Do the train and validation loops\n",
        "7. Do the evaluation loop\n",
        "8. Visualize the results\n",
        "9. Save the model checkpoints and the results"
      ],
      "metadata": {
        "id": "j4Qq7sIVRS3E"
      }
    },
    {
      "cell_type": "code",
      "execution_count": 28,
      "metadata": {
        "id": "XlprxQZOQjOf"
      },
      "outputs": [],
      "source": [
        "import torch\n",
        "import torch.nn as nn\n",
        "import torch.nn.functional as F\n",
        "import torch.optim as optim\n",
        "from torch.utils.data import DataLoader, Dataset, random_split\n",
        "from torch.utils.tensorboard import SummaryWriter\n",
        "from torchvision import datasets, transforms\n",
        "import numpy as np\n",
        "from matplotlib import pyplot as plt\n",
        "\n"
      ]
    },
    {
      "cell_type": "code",
      "source": [
        "print(f\"PyTorch version: {torch.__version__}\")"
      ],
      "metadata": {
        "colab": {
          "base_uri": "https://localhost:8080/"
        },
        "id": "DfMHeZtiQ9K2",
        "outputId": "17ad02df-85e9-41a5-9777-6db4847c0429"
      },
      "execution_count": 4,
      "outputs": [
        {
          "output_type": "stream",
          "name": "stdout",
          "text": [
            "PyTorch version: 2.6.0+cu124\n"
          ]
        }
      ]
    },
    {
      "cell_type": "code",
      "source": [
        "train_dataset = datasets.MNIST(root='./data', train=True, transform=transforms.ToTensor(), download=True)\n",
        "test_dataset = datasets.MNIST(root='./data', train=False, transform=transforms.ToTensor(), download=True)"
      ],
      "metadata": {
        "colab": {
          "base_uri": "https://localhost:8080/"
        },
        "id": "Jo0cLDr-RJyM",
        "outputId": "92b18ef3-70ba-4ffb-db60-edefdcd099ae"
      },
      "execution_count": 5,
      "outputs": [
        {
          "output_type": "stream",
          "name": "stderr",
          "text": [
            "100%|██████████| 9.91M/9.91M [00:00<00:00, 11.5MB/s]\n",
            "100%|██████████| 28.9k/28.9k [00:00<00:00, 343kB/s]\n",
            "100%|██████████| 1.65M/1.65M [00:00<00:00, 3.20MB/s]\n",
            "100%|██████████| 4.54k/4.54k [00:00<00:00, 5.42MB/s]\n"
          ]
        }
      ]
    },
    {
      "cell_type": "code",
      "source": [
        "print(f\"Training dataset size: {len(train_dataset.train_data)}\")\n",
        "print(f\"Training dataset size: {len(train_dataset.test_data)}\")\n",
        "print(f\"Training dataset size: {len(train_dataset.train_labels)}\") # Weird\n",
        "print(f\"Training dataset size: {len(train_dataset.test_labels)}\")  # Weird"
      ],
      "metadata": {
        "colab": {
          "base_uri": "https://localhost:8080/"
        },
        "id": "f2eph5OlSxf_",
        "outputId": "f5e217dc-72bc-40d5-d0db-cea8c7f70529"
      },
      "execution_count": 21,
      "outputs": [
        {
          "output_type": "stream",
          "name": "stdout",
          "text": [
            "Training dataset size: 60000\n",
            "Training dataset size: 60000\n",
            "Training dataset size: 60000\n",
            "Training dataset size: 60000\n"
          ]
        },
        {
          "output_type": "stream",
          "name": "stderr",
          "text": [
            "/usr/local/lib/python3.11/dist-packages/torchvision/datasets/mnist.py:81: UserWarning: test_data has been renamed data\n",
            "  warnings.warn(\"test_data has been renamed data\")\n",
            "/usr/local/lib/python3.11/dist-packages/torchvision/datasets/mnist.py:71: UserWarning: test_labels has been renamed targets\n",
            "  warnings.warn(\"test_labels has been renamed targets\")\n"
          ]
        }
      ]
    },
    {
      "cell_type": "code",
      "source": [
        "print(f\"The first ten labels are {train_dataset.train_labels[:10]}\")\n",
        "\n",
        "for i in range(1,11):\n",
        "  plt.subplot(1, 10, i)\n",
        "  plt.imshow(train_dataset.train_data[i].squeeze(), cmap='gray')\n",
        "  plt.title(train_dataset.train_labels[i].item())\n",
        "  plt.axis('off')\n",
        "  plt.show()"
      ],
      "metadata": {
        "colab": {
          "base_uri": "https://localhost:8080/",
          "height": 874
        },
        "id": "Abm_7N28txQm",
        "outputId": "1e442881-c40a-463f-9803-52c3297a0942"
      },
      "execution_count": 23,
      "outputs": [
        {
          "output_type": "stream",
          "name": "stdout",
          "text": [
            "The first ten labels are tensor([5, 0, 4, 1, 9, 2, 1, 3, 1, 4])\n"
          ]
        },
        {
          "output_type": "display_data",
          "data": {
            "text/plain": [
              "<Figure size 640x480 with 1 Axes>"
            ],
            "image/png": "[encoded data removed]"
          },
          "metadata": {}
        },
        {
          "output_type": "display_data",
          "data": {
            "text/plain": [
              "<Figure size 640x480 with 1 Axes>"
            ],
            "image/png": "[encoded data removed]"
          },
          "metadata": {}
        },
        {
          "output_type": "display_data",
          "data": {
            "text/plain": [
              "<Figure size 640x480 with 1 Axes>"
            ],
            "image/png": "[encoded data removed]"
          },
          "metadata": {}
        },
        {
          "output_type": "display_data",
          "data": {
            "text/plain": [
              "<Figure size 640x480 with 1 Axes>"
            ],
            "image/png": "[encoded data removed]"
          },
          "metadata": {}
        },
        {
          "output_type": "display_data",
          "data": {
            "text/plain": [
              "<Figure size 640x480 with 1 Axes>"
            ],
            "image/png": "[encoded data removed]"
          },
          "metadata": {}
        },
        {
          "output_type": "display_data",
          "data": {
            "text/plain": [
              "<Figure size 640x480 with 1 Axes>"
            ],
            "image/png": "[encoded data removed]"
          },
          "metadata": {}
        },
        {
          "output_type": "display_data",
          "data": {
            "text/plain": [
              "<Figure size 640x480 with 1 Axes>"
            ],
            "image/png": "[encoded data removed]"
          },
          "metadata": {}
        },
        {
          "output_type": "display_data",
          "data": {
            "text/plain": [
              "<Figure size 640x480 with 1 Axes>"
            ],
            "image/png": "[encoded data removed]"
          },
          "metadata": {}
        },
        {
          "output_type": "display_data",
          "data": {
            "text/plain": [
              "<Figure size 640x480 with 1 Axes>"
            ],
            "image/png": "[encoded data removed]"
          },
          "metadata": {}
        },
        {
          "output_type": "display_data",
          "data": {
            "text/plain": [
              "<Figure size 640x480 with 1 Axes>"
            ],
            "image/png": "[encoded data removed]"
          },
          "metadata": {}
        }
      ]
    },
    {
      "cell_type": "code",
      "source": [
        "img, label = train_dataset[7]\n",
        "plt.imshow(img.squeeze(), cmap='gray')\n",
        "plt.title(label)\n",
        "plt.axis('off')\n",
        "plt.show()"
      ],
      "metadata": {
        "colab": {
          "base_uri": "https://localhost:8080/",
          "height": 428
        },
        "id": "zGA7NDW2S3_A",
        "outputId": "c5c01888-5dcf-47d4-e57f-8f1f0749d64b"
      },
      "execution_count": 27,
      "outputs": [
        {
          "output_type": "display_data",
          "data": {
            "text/plain": [
              "<Figure size 640x480 with 1 Axes>"
            ],
            "image/png": "[encoded data removed]"
          },
          "metadata": {}
        }
      ]
    },
    {
      "cell_type": "code",
      "source": [
        "train_loader = DataLoader(dataset=train_dataset, batch_size=32, shuffle=True)\n",
        "test_loader = DataLoader(dataset=test_dataset, batch_size=32, shuffle=False)\n",
        "\n",
        "\n",
        "for images, labels in train_loader:\n",
        "    print('Image batch dimensions:', images.shape)\n",
        "    print('Image label dimensions:', labels.shape)\n",
        "    break"
      ],
      "metadata": {
        "colab": {
          "base_uri": "https://localhost:8080/"
        },
        "id": "_YWGTSRYw_8U",
        "outputId": "6b847f60-206c-4a24-b27f-9e4e6b6ac003"
      },
      "execution_count": 61,
      "outputs": [
        {
          "output_type": "stream",
          "name": "stdout",
          "text": [
            "Image batch dimensions: torch.Size([32, 1, 28, 28])\n",
            "Image label dimensions: torch.Size([32])\n"
          ]
        }
      ]
    },
    {
      "cell_type": "code",
      "source": [
        "\n",
        "linear_layer = torch.nn.Linear(in_features=2, out_features=3, bias=True)\n",
        "print(\"---------------------------------------------------------------------------\")\n",
        "print(\"[INFO] Randomly initialized weights and biases of a simple linear layer ...\")\n",
        "print(\"---------------------------------------------------------------------------\")\n",
        "print(f\"A linear layer's randomly initialized parameters: \\n {linear_layer.weight}\")\n",
        "print(f\"A linear layer's randomly initialized parameters: \\n {linear_layer.weight.data}\")\n",
        "print(f\"A linear layer's randomly initialized parameters: \\n {linear_layer.weight.grad}\")\n",
        "print(f\"A linear layer's randomly initialized parameters: \\n {linear_layer.bias}\")\n",
        "print(f\"A linear layer's randomly initialized parameters: \\n {linear_layer.bias.data}\")\n",
        "print(f\"A linear layer's randomly initialized parameters: \\n {linear_layer.bias.grad}\")\n",
        "print(\"[INFO] End of the story ...\")\n",
        "print(\"---------------------------------------------------------------------------\\n\\n\\n\")\n",
        "\n",
        "\n",
        "\n",
        "linear_layer.weight.data = torch.tensor([[1., 2.], [3., 4.], [5., 6.]])\n",
        "linear_layer.bias.data = torch.tensor([0.1, 0.2, 0.3])\n",
        "print(\"---------------------------------------------------------------------------\")\n",
        "print(\"[INFO] Manually initialized weights and biases of a simple linear layer ...\")\n",
        "print(\"---------------------------------------------------------------------------\")\n",
        "print(f\"A linear layer's randomly initialized parameters: \\n {linear_layer.weight}\")\n",
        "print(f\"A linear layer's randomly initialized parameters: \\n {linear_layer.weight.data}\")\n",
        "print(f\"A linear layer's randomly initialized parameters: \\n {linear_layer.weight.grad}\")\n",
        "print(f\"A linear layer's randomly initialized parameters: \\n {linear_layer.bias}\")\n",
        "print(f\"A linear layer's randomly initialized parameters: \\n {linear_layer.bias.data}\")\n",
        "print(f\"A linear layer's randomly initialized parameters: \\n {linear_layer.bias.grad}\")\n",
        "print(\"[INFO] End of the story ...\")\n",
        "print(\"---------------------------------------------------------------------------\\n\\n\\n\")\n",
        "\n",
        "w = torch.empty(3, 5)\n",
        "b = torch.empty(3, )\n",
        "\n",
        "linear_layer.weight.data = torch.nn.init.normal_(w, mean=0., std=1.)\n",
        "linear_layer.bias.data = torch.nn.init.zeros_(b)\n",
        "print(\"---------------------------------------------------------------------------\")\n",
        "print(\"[INFO] Manually initialized weights and biases of a simple linear layer ...\")\n",
        "print(\"---------------------------------------------------------------------------\")\n",
        "print(f\"A linear layer's randomly initialized parameters: \\n {linear_layer.weight}\")\n",
        "print(f\"A linear layer's randomly initialized parameters: \\n {linear_layer.weight.data}\")\n",
        "print(f\"A linear layer's randomly initialized parameters: \\n {linear_layer.weight.grad}\")\n",
        "print(f\"A linear layer's randomly initialized parameters: \\n {linear_layer.bias}\")\n",
        "print(f\"A linear layer's randomly initialized parameters: \\n {linear_layer.bias.data}\")\n",
        "print(f\"A linear layer's randomly initialized parameters: \\n {linear_layer.bias.grad}\")\n",
        "print(\"[INFO] End of the story ...\")\n",
        "print(\"---------------------------------------------------------------------------\\n\\n\\n\")\n",
        "\n",
        "# detach() usage\n",
        "\n",
        "a = torch.tensor([2., 3., -6], requires_grad=True)\n",
        "print(a)\n",
        "\n",
        "b = a.detach()\n",
        "print(b)\n",
        "\n",
        "c = b.requires_grad_(True)\n",
        "print(c)"
      ],
      "metadata": {
        "colab": {
          "base_uri": "https://localhost:8080/"
        },
        "id": "ErN961ZYHP2J",
        "outputId": "90967c75-a309-4b6d-b886-fd52351d4966"
      },
      "execution_count": 67,
      "outputs": [
        {
          "output_type": "stream",
          "name": "stdout",
          "text": [
            "---------------------------------------------------------------------------\n",
            "[INFO] Randomly initialized weights and biases of a simple linear layer ...\n",
            "---------------------------------------------------------------------------\n",
            "A linear layer's randomly initialized parameters: \n",
            " Parameter containing:\n",
            "tensor([[-0.1284,  0.2787],\n",
            "        [-0.5078, -0.1005],\n",
            "        [ 0.4973,  0.5711]], requires_grad=True)\n",
            "A linear layer's randomly initialized parameters: \n",
            " tensor([[-0.1284,  0.2787],\n",
            "        [-0.5078, -0.1005],\n",
            "        [ 0.4973,  0.5711]])\n",
            "A linear layer's randomly initialized parameters: \n",
            " None\n",
            "A linear layer's randomly initialized parameters: \n",
            " Parameter containing:\n",
            "tensor([-0.0611,  0.2451,  0.3309], requires_grad=True)\n",
            "A linear layer's randomly initialized parameters: \n",
            " tensor([-0.0611,  0.2451,  0.3309])\n",
            "A linear layer's randomly initialized parameters: \n",
            " None\n",
            "[INFO] End of the story ...\n",
            "---------------------------------------------------------------------------\n",
            "\n",
            "\n",
            "\n",
            "---------------------------------------------------------------------------\n",
            "[INFO] Manually initialized weights and biases of a simple linear layer ...\n",
            "---------------------------------------------------------------------------\n",
            "A linear layer's randomly initialized parameters: \n",
            " Parameter containing:\n",
            "tensor([[1., 2.],\n",
            "        [3., 4.],\n",
            "        [5., 6.]], requires_grad=True)\n",
            "A linear layer's randomly initialized parameters: \n",
            " tensor([[1., 2.],\n",
            "        [3., 4.],\n",
            "        [5., 6.]])\n",
            "A linear layer's randomly initialized parameters: \n",
            " None\n",
            "A linear layer's randomly initialized parameters: \n",
            " Parameter containing:\n",
            "tensor([0.1000, 0.2000, 0.3000], requires_grad=True)\n",
            "A linear layer's randomly initialized parameters: \n",
            " tensor([0.1000, 0.2000, 0.3000])\n",
            "A linear layer's randomly initialized parameters: \n",
            " None\n",
            "[INFO] End of the story ...\n",
            "---------------------------------------------------------------------------\n",
            "\n",
            "\n",
            "\n",
            "---------------------------------------------------------------------------\n",
            "[INFO] Manually initialized weights and biases of a simple linear layer ...\n",
            "---------------------------------------------------------------------------\n",
            "A linear layer's randomly initialized parameters: \n",
            " Parameter containing:\n",
            "tensor([[-0.5434,  0.1439,  0.2601, -2.1773,  0.8892],\n",
            "        [ 0.6207, -0.3173,  1.5074,  0.2204,  0.2933],\n",
            "        [-0.9176,  1.2637, -0.6878,  0.8436,  0.1715]], requires_grad=True)\n",
            "A linear layer's randomly initialized parameters: \n",
            " tensor([[-0.5434,  0.1439,  0.2601, -2.1773,  0.8892],\n",
            "        [ 0.6207, -0.3173,  1.5074,  0.2204,  0.2933],\n",
            "        [-0.9176,  1.2637, -0.6878,  0.8436,  0.1715]])\n",
            "A linear layer's randomly initialized parameters: \n",
            " None\n",
            "A linear layer's randomly initialized parameters: \n",
            " Parameter containing:\n",
            "tensor([0., 0., 0.], requires_grad=True)\n",
            "A linear layer's randomly initialized parameters: \n",
            " tensor([0., 0., 0.])\n",
            "A linear layer's randomly initialized parameters: \n",
            " None\n",
            "[INFO] End of the story ...\n",
            "---------------------------------------------------------------------------\n",
            "\n",
            "\n",
            "\n",
            "tensor([ 2.,  3., -6.], requires_grad=True)\n",
            "tensor([ 2.,  3., -6.])\n",
            "tensor([ 2.,  3., -6.], requires_grad=True)\n"
          ]
        }
      ]
    },
    {
      "cell_type": "code",
      "source": [
        "# Model Building\n",
        "class MLPv0(nn.Module):\n",
        "  def __init__(self):\n",
        "    super(MLPv0, self).__init__()\n",
        "\n",
        "    self.fc1 = nn.Linear(28 * 28, 128)\n",
        "    self.fc2 = nn.Linear(128, 256)\n",
        "    self.fc3 = nn.Linear(256, 10)\n",
        "\n",
        "  def forward(self, x):\n",
        "    x = x.view(x.size(0), -1)\n",
        "    x = F.relu(self.fc1(x))\n",
        "    x = F.relu(self.fc2(x))\n",
        "    x = self.fc3(x)\n",
        "    return x\n",
        "\n",
        "model = MLPv0()\n",
        "\n",
        "\n",
        "# torch.Tensor.normal_\n",
        "# torch.Tensor.zero_\n",
        "# torch.nn.init.ones_(tensor)\n",
        "# torch.nn.init.zeros_(tensor)"
      ],
      "metadata": {
        "id": "lBySyQazyDrw"
      },
      "execution_count": 30,
      "outputs": []
    },
    {
      "cell_type": "code",
      "source": [
        "# Hyperparameters\n",
        "random_seed = 1\n",
        "learning_rate = 0.1\n",
        "num_epochs = 10\n",
        "batch_size = 64\n",
        "\n",
        "# Device\n",
        "device = torch.device(\"cuda:3\" if torch.cuda.is_available() else \"cpu\")\n",
        "\n",
        "\n",
        "criterion = nn.CrossEntropyLoss()\n",
        "optimizer = optim.Adam(model.parameters(), lr=learning_rate)\n"
      ],
      "metadata": {
        "id": "UeZcel5txy53"
      },
      "execution_count": 31,
      "outputs": []
    },
    {
      "cell_type": "code",
      "source": [
        "tensor = torch.tensor([1., 2., 3., 4., 5.])\n",
        "print(tensor)\n",
        "\n",
        "print(tensor.normal_(mean=0, std=1))\n",
        "print(tensor)\n",
        "\n",
        "print(tensor.zero_())\n",
        "print(tensor)"
      ],
      "metadata": {
        "colab": {
          "base_uri": "https://localhost:8080/"
        },
        "id": "0CH6vhtKC-uW",
        "outputId": "fd069154-7190-407d-b0e7-7c9110f2e850"
      },
      "execution_count": 37,
      "outputs": [
        {
          "output_type": "stream",
          "name": "stdout",
          "text": [
            "tensor([1., 2., 3., 4., 5.])\n",
            "tensor([-1.4212, -0.1070,  1.1470, -0.9353, -0.3403])\n",
            "tensor([-1.4212, -0.1070,  1.1470, -0.9353, -0.3403])\n",
            "tensor([0., 0., 0., 0., 0.])\n",
            "tensor([0., 0., 0., 0., 0.])\n"
          ]
        }
      ]
    },
    {
      "cell_type": "code",
      "source": [
        "w = torch.empty(3, 5)\n",
        "nn.init.normal_(w)"
      ],
      "metadata": {
        "colab": {
          "base_uri": "https://localhost:8080/"
        },
        "id": "0Gm11xh6F86g",
        "outputId": "06b8722d-05e1-4bb9-c2fc-530304a52600"
      },
      "execution_count": 38,
      "outputs": [
        {
          "output_type": "execute_result",
          "data": {
            "text/plain": [
              "tensor([[-0.0455, -0.6086, -1.3895, -0.2519,  1.2342],\n",
              "        [ 0.7726, -1.8831,  0.7808,  0.3199, -0.9644],\n",
              "        [ 2.1321, -0.6509,  0.8118, -1.3384, -0.2690]])"
            ]
          },
          "metadata": {},
          "execution_count": 38
        }
      ]
    },
    {
      "cell_type": "code",
      "source": [],
      "metadata": {
        "id": "p152GGV1Gyky"
      },
      "execution_count": null,
      "outputs": []
    }
  ]
}